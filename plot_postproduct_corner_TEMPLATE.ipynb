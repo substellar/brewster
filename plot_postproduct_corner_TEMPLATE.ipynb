{
 "cells": [
  {
   "cell_type": "code",
   "execution_count": null,
   "metadata": {
    "collapsed": false
   },
   "outputs": [],
   "source": [
    "import matplotlib as mpl\n",
    "import matplotlib.pyplot as plt\n",
    "import matplotlib.image as mgimg\n",
    "import scipy as sp\n",
    "import numpy as np\n",
    "import emcee\n",
    "import testkit\n",
    "import corner\n",
    "import pickle as pickle\n",
    "from IPython.display import display\n",
    "%matplotlib inline\n",
    "import brewtools\n"
   ]
  },
  {
   "cell_type": "code",
   "execution_count": null,
   "metadata": {
    "collapsed": false
   },
   "outputs": [],
   "source": [
    "runname =\"YOUR RUN NAME HERE\"\n",
    "samples = brewtools.pickle_load(runname+'_postprod.pk1')"
   ]
  },
  {
   "cell_type": "code",
   "execution_count": null,
   "metadata": {
    "collapsed": false
   },
   "outputs": [],
   "source": [
    "print(samples.shape)"
   ]
  },
  {
   "cell_type": "code",
   "execution_count": null,
   "metadata": {
    "collapsed": false,
    "scrolled": false
   },
   "outputs": [],
   "source": [
    "### YOU WILL NEED TO EDIT THIS STUFF TO GET THE BITS YOU WANT TO PLOT\n",
    "# YOU WILL ALSO NEED TO EDIT THE RANGES\n",
    "\n",
    "plotsamples = np.zeros([samples.shape[0],15])\n",
    "plotsamples[:,0:10] = samples[:,0:10]\n",
    "plotsamples[:,10:] = samples[:,37:42]\n",
    "print(plotsamples[0:3,0:16])\n",
    "rh2o = (-4,-3.)\n",
    "rco = (-3.,-2.5)\n",
    "rco2 = (-5., -4.)\n",
    "rch4 = (-7.,-4.5)\n",
    "rvo= (-9.3,-8.3)\n",
    "rtio = (-12,-5)\n",
    "#rcah = (-12,-0)\n",
    "rcrh = (-8.5,-7.5)\n",
    "rfeh = (-8.5,-7.5)\n",
    "rnak = (-7.0,-5)\n",
    "rlogg = (5.,5.5)\n",
    "rlbol = (-4.2,-4.1)\n",
    "teff = (1800.,2000.)\n",
    "Rad = (0.6, 1.0)\n",
    "Mass = (0.,80.)\n",
    "rmh = (0.0,1.0)\n",
    "rcorat = (0.7, 1.0) \n",
    "bnds = [rh2o,rco,rco2,rch4,rtio,rvo,rcrh,rfeh,rnak,rlogg,teff,Rad,Mass,rmh,rcorat]\n",
    "\n",
    "fig = corner.corner(plotsamples,scale_hist=False, range = bnds,plot_datapoints =False,labels=[\"H2O\",\"CO\",\"CO2\",\"CH4\",\"TiO\",\"VO\",\"CrH\",\"FeH\",\"Na+K\",\"$\\log g$\",\"$T_{eff}$\", \"R\", \"M\",\"[M/H]\",\"C/O\"],quantiles=[0.16, 0.5, 0.84],show_titles=True, title_kwargs={\"fontsize\": 20},label_kwargs={\"fontsize\": 20})\n",
    "#fig = triangle.corner(samples)\n",
    "plt.savefig(runname+\"_post_corner.png\",format='png', dpi=320)\n"
   ]
  },
  {
   "cell_type": "code",
   "execution_count": null,
   "metadata": {
    "collapsed": false
   },
   "outputs": [],
   "source": [
    "np.percentile(samples[:,36],(16,50,84))"
   ]
  },
  {
   "cell_type": "code",
   "execution_count": null,
   "metadata": {
    "collapsed": true
   },
   "outputs": [],
   "source": []
  },
  {
   "cell_type": "code",
   "execution_count": null,
   "metadata": {
    "collapsed": true
   },
   "outputs": [],
   "source": []
  },
  {
   "cell_type": "code",
   "execution_count": null,
   "metadata": {
    "collapsed": true
   },
   "outputs": [],
   "source": []
  }
 ],
 "metadata": {
  "kernelspec": {
   "display_name": "Python 3",
   "language": "python",
   "name": "python3"
  },
  "language_info": {
   "codemirror_mode": {
    "name": "ipython",
    "version": 3
   },
   "file_extension": ".py",
   "mimetype": "text/x-python",
   "name": "python",
   "nbconvert_exporter": "python",
   "pygments_lexer": "ipython3",
   "version": "3.6.0"
  }
 },
 "nbformat": 4,
 "nbformat_minor": 0
}
