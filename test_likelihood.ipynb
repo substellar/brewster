{
 "cells": [
  {
   "cell_type": "code",
   "execution_count": 1,
   "metadata": {},
   "outputs": [
    {
     "name": "stderr",
     "output_type": "stream",
     "text": [
      "/var/folders/_f/26rbrdm95wzdk7pb7fbzhl4h0000gp/T/ipykernel_29026/138736904.py:13: DeprecationWarning: Please import `readsav` from the `scipy.io` namespace; the `scipy.io.idl` namespace is deprecated and will be removed in SciPy 2.0.0.\n",
      "  from scipy.io.idl import readsav\n"
     ]
    }
   ],
   "source": [
    "import multiprocessing\n",
    "import time\n",
    "import numpy as np\n",
    "import scipy as sp\n",
    "import emcee\n",
    "import testkit_mem as testkit\n",
    "import ciamod\n",
    "import settings\n",
    "import os\n",
    "import gc\n",
    "import sys\n",
    "import pickle\n",
    "from scipy.io.idl import readsav\n",
    "from scipy import interpolate\n",
    "from scipy.interpolate import interp1d\n",
    "from scipy.interpolate import InterpolatedUnivariateSpline\n",
    "\n",
    "import matplotlib\n",
    "import matplotlib.pyplot as plt\n",
    "import matplotlib.image as mgimg\n",
    "import TPmod\n",
    "import forwardmodel\n",
    "from IPython.display import display\n",
    "%matplotlib inline\n"
   ]
  },
  {
   "cell_type": "code",
   "execution_count": 2,
   "metadata": {},
   "outputs": [
    {
     "name": "stdout",
     "output_type": "stream",
     "text": [
      "2\n"
     ]
    }
   ],
   "source": [
    "# First get data and parameters for object\n",
    "\n",
    "# get the observed spectrum\n",
    "obspec = np.asfortranarray(np.loadtxt(\"G570D_2MHcalib.dat\",dtype='d',unpack='true'))\n",
    "\n",
    "# start with the wavelength range\n",
    "w1 = 1.0\n",
    "w2 = 2.5\n",
    "\n",
    "\n",
    "# How many patches & clouds do we want??\n",
    "# Must be at least 1 of each, but can turn off cloud below\n",
    "npatches = 2\n",
    "nclouds = 1\n",
    "\n",
    "# set up array for setting patchy cloud answers\n",
    "do_clouds = np.zeros([npatches],dtype='i')\n",
    "\n",
    "# Which patches are cloudy\n",
    "do_clouds[0] = 0\n",
    "do_clouds[1] = 1\n",
    "# set up cloud detail arrays\n",
    "cloudnum = np.zeros([npatches,nclouds],dtype='i')\n",
    "cloudtype =np.zeros([npatches,nclouds],dtype='i')\n",
    "\n",
    "print(cloudtype.size)\n",
    "# Now fill cloud details. What kind of clouds and shape are they?\n",
    "# Cloud types\n",
    "# 1:  slab cloud\n",
    "# 2: deep thick cloud , we only see the top\n",
    "# 3: slab with fixed thickness log dP = 0.005 (i.e. fits within a single layer)\n",
    "# 4: deep thick cloud with fixed height (i.e. appears in a single layer)\n",
    "# In both cases the cloud properties are density, rg, rsig for real clouds\n",
    "# and dtau, w0, and power law for cloudnum = 89 or 99 for grey\n",
    "cloudnum[:,0] = 5\n",
    "cloudtype[:,0] = 1\n",
    "\n",
    "#cloudnum[:,1] = 2\n",
    "#cloudtype[:,1] = 1\n",
    "\n",
    "#cloudnum[:,2] = 2\n",
    "#cloudtype[:,2] = 2\n",
    "\n",
    "# second patch turn off top cloud\n",
    "#cloudnum[1,0] = 5\n",
    "#cloudtype[1,0] = 0\n",
    "\n",
    "#cloudnum[1,1] = 5\n",
    "#cloudtype[1,1] = 0\n",
    "\n",
    "\n",
    "# gravity??\n",
    "logg = 4.0\n",
    "\n",
    "# distance (parsecs)\n",
    "dist =5.882\n",
    "\n",
    "# scale factor r2d2 from distance 1 Rj radius\n",
    "r2d2 = (71492e3)**2. / (dist * 3.086e+16)**2.\n",
    "\n",
    "# Are we doing H- bound-free, free-free continuum opacities?\n",
    "# (Is the profile going above approx 3000K in the photosphere?)\n",
    "do_bff = 1\n",
    "\n",
    "chemeq = 0\n",
    "\n",
    "# Set the profile type. If we're using a fixed one. Give the file name\n",
    "proftype = 9\n",
    "pfile = \"t1700g1000f3.dat\"\n",
    "\n",
    "\n",
    "# set up pressure grids in bar cos its intuitive\n",
    "logcoarsePress = np.arange(-4.0, 2.5, 0.53)\n",
    "logfinePress = np.arange(-4.0, 2.4, 0.1)\n",
    "# forward model wants pressure in bar\n",
    "#logcoarsePress = np.arange(-4.0, 3.0, 0.5)\n",
    "coarsePress = pow(10,logcoarsePress)\n",
    "press = pow(10,logfinePress)\n",
    "nlayers = press.size\n",
    "\n",
    "# Where are the cross sections?\n",
    "# give the full path\n",
    "xpath = \"/Volumes/DudleyDisk/LineLists/\"\n",
    "xlist = 'gaslistR10K.dat'\n",
    "# now the cross sections\n",
    "\n",
    "# Now list the gases.\n",
    "# If Na is after K, at the end of the list, alkalis will be tied\n",
    "# together at Asplund solar ratio. See Line at al (2015)\n",
    "# Else if K is after Na, they'll be separate\n",
    "\n",
    "gaslist = ['h2o','ch4']\n",
    "ngas = len(gaslist)\n",
    "\n",
    "# some switches for alternative cross sections\n",
    "# Use Mike's Alkalis?\n",
    "malk = 1\n",
    "# Use Mike's CH4?\n",
    "mch4 = 0\n",
    "\n",
    "fwhm = 0\n",
    "# Are we using DISORT for radiative transfer?\n",
    "# (HINT: Not in this century)\n",
    "use_disort = 0 \n",
    "\n",
    "# use the fudge factor?\n",
    "do_fudge = 1\n",
    "\n",
    "\n"
   ]
  },
  {
   "cell_type": "code",
   "execution_count": 3,
   "metadata": {},
   "outputs": [
    {
     "name": "stdout",
     "output_type": "stream",
     "text": [
      "(3, 371)\n",
      "[1.00000000e-04 1.25892541e-04 1.58489319e-04 1.99526231e-04\n",
      " 2.51188643e-04 3.16227766e-04 3.98107171e-04 5.01187234e-04\n",
      " 6.30957344e-04 7.94328235e-04 1.00000000e-03 1.25892541e-03\n",
      " 1.58489319e-03 1.99526231e-03 2.51188643e-03 3.16227766e-03\n",
      " 3.98107171e-03 5.01187234e-03 6.30957344e-03 7.94328235e-03\n",
      " 1.00000000e-02 1.25892541e-02 1.58489319e-02 1.99526231e-02\n",
      " 2.51188643e-02 3.16227766e-02 3.98107171e-02 5.01187234e-02\n",
      " 6.30957344e-02 7.94328235e-02 1.00000000e-01 1.25892541e-01\n",
      " 1.58489319e-01 1.99526231e-01 2.51188643e-01 3.16227766e-01\n",
      " 3.98107171e-01 5.01187234e-01 6.30957344e-01 7.94328235e-01\n",
      " 1.00000000e+00 1.25892541e+00 1.58489319e+00 1.99526231e+00\n",
      " 2.51188643e+00 3.16227766e+00 3.98107171e+00 5.01187234e+00\n",
      " 6.30957344e+00 7.94328235e+00 1.00000000e+01 1.25892541e+01\n",
      " 1.58489319e+01 1.99526231e+01 2.51188643e+01 3.16227766e+01\n",
      " 3.98107171e+01 5.01187234e+01 6.30957344e+01 7.94328235e+01\n",
      " 1.00000000e+02 1.25892541e+02 1.58489319e+02 1.99526231e+02]\n"
     ]
    }
   ],
   "source": [
    "print(obspec.shape)\n",
    "print(press)"
   ]
  },
  {
   "cell_type": "code",
   "execution_count": 4,
   "metadata": {},
   "outputs": [],
   "source": [
    "# Now we'll get the opacity files into an array\n",
    "inlinetemps,inwavenum,forwardmodel.sizes.linelist,gasnum,nwave = testkit.get_opacities(gaslist,w1,w2,press,xpath,xlist,malk)\n",
    "\n",
    "# Get the cia bits\n",
    "tmpcia, ciatemps = ciamod.read_cia(\"CIA_DS_aug_2015.dat\",inwavenum)\n",
    "cia = np.asfortranarray(np.empty((4,ciatemps.size,nwave)),dtype='float32')\n",
    "cia[:,:,:] = tmpcia[:,:,:nwave] \n",
    "ciatemps = np.asfortranarray(ciatemps, dtype='float32')\n",
    "\n",
    "# grab BFF and Chemical grids\n",
    "bff_raw,ceTgrid,metscale,coscale,gases_myP = testkit.sort_bff_and_CE(chemeq,\"chem_eq_tables_P3K.pic\",press,gaslist)\n",
    "\n"
   ]
  },
  {
   "cell_type": "code",
   "execution_count": 5,
   "metadata": {},
   "outputs": [],
   "source": [
    "prof = np.full(13, 100.)\n",
    "if proftype == 9:\n",
    "    modP, modT = np.loadtxt(pfile, skiprows=1, usecols=(1, 2), unpack=True)\n",
    "    tfit = InterpolatedUnivariateSpline(np.log10(modP), modT, k=1)\n",
    "    prof = tfit(logcoarsePress)\n",
    "\n",
    "settings.init()\n",
    "settings.runargs = gases_myP,chemeq,dist, cloudtype,do_clouds,gasnum,cloudnum,inlinetemps,coarsePress,press,inwavenum,cia,ciatemps,use_disort,fwhm,obspec,proftype,do_fudge, prof,do_bff,bff_raw,ceTgrid,metscale,coscale\n"
   ]
  },
  {
   "cell_type": "code",
   "execution_count": 6,
   "metadata": {},
   "outputs": [
    {
     "name": "stdout",
     "output_type": "stream",
     "text": [
      "17\n"
     ]
    }
   ],
   "source": [
    "# for proftype = 2 with no clouds, ndim = nprof + ngas-1, + (dlam,beta,logg, r2d2)\n",
    "ndim = 17 #(nprof + (ngas-1) + 9)\n",
    "p0 = np.empty(ndim)\n",
    "print(ndim)\n",
    "theta = p0"
   ]
  },
  {
   "cell_type": "code",
   "execution_count": 7,
   "metadata": {},
   "outputs": [],
   "source": [
    "\n",
    "p0[0] = (0.5*np.random.randn()) - 3.5 # H2O\n",
    "p0[1] = (0.5*np.random.randn()) - 4.0 # CO\n",
    "#p0[2] = (0.5*np.random.randn()) - 4.0 # CO2\n",
    "#p0[3] = (0.5*np.random.randn()) - 4.0 # CH4\n",
    "#p0[4] = (0.5*np.random.randn()) - 8.0 # TiO\n",
    "#p0[5] = (0.5*np.random.randn()) - 8.0 # VO\n",
    "#p0[6] = (0.5*np.random.randn()) - 8.0 # CrH\n",
    "#p0[7] = (1.0*np.random.randn()) - 8.0 # FeH\n",
    "#p0[8] = (0.5*np.random.randn()) - 8.0 # H2S\n",
    "#p0[9] = (0.5*np.random.randn()) - 5.5 # Na+K\n",
    "p0[2] = 0.1*np.random.randn() + 4.9  # gravity\n",
    "p0[3] = r2d2 + (np.random.randn() * (0.1*r2d2))  # scale factor\n",
    "p0[4] = np.random.randn() * 0.001  # dlambda\n",
    "p0[5] = np.log10((np.random.rand() * (max(obspec[2,:]**2)*(0.1 - 0.01))) + (0.01*min(obspec[2,10::3]**2)))\n",
    "# patch\n",
    "p0[6] = np.random.rand()\n",
    "# Slab cloud params\n",
    "p0[7] = np.random.rand()\n",
    "p0[8] = np.random.randn()\n",
    "p0[9] = np.random.rand()\n",
    "p0[10] = 0.1*np.random.randn()\n",
    "p0[11] = np.random.rand()\n",
    "# Slab cloud params\n",
    "#p0[12] = np.random.rand()\n",
    "#p0[13] = np.random.randn()\n",
    "#p0[14] = np.random.rand()\n",
    "#p0[15] = np.random.randn()\n",
    "#p0[16] = 0.1*np.random.rand()\n",
    "#\n",
    "# Deck cloud params\n",
    "#p0[17] = np.random.randn()\n",
    "#p0[18] = np.random.rand()\n",
    "#p0[19] = np.random.randn()\n",
    "#p0[20] = np.abs(0.1 + 0.01*np.random.randn())\n",
    "p0[12] = 0.39 + 0.1*np.random.randn()\n",
    "p0[13] = 0.14 +0.05*np.random.randn()\n",
    "p0[14] = -1.2 + 0.2*np.random.randn()\n",
    "p0[15] = 2.25+ 0.2*np.random.randn()\n",
    "p0[16] = 4200. + (500.*  np.random.randn())\n",
    "\n",
    "#while True:\n",
    "#    Tcheck = TPmod.set_prof(proftype, coarsePress, press, p0[ndim-5:])\n",
    "#    if min(Tcheck) > 1.0:\n",
    "#        break\n",
    "#    else:\n",
    "#        p0[ndim-5] = 0.39 + 0.01*np.random.randn()\n",
    "#        p0[ndim-4] = 0.14 + 0.01*np.random.randn()\n",
    "#        p0[ndim-3] = -1.2 + 0.2*np.random.randn()\n",
    "#        p0[ndim-2] = 2. + 0.2*np.random.randn()\n",
    "#        p0[ndim-1] = 4200. + (200.*np.random.randn())\n",
    "    "
   ]
  },
  {
   "cell_type": "code",
   "execution_count": 8,
   "metadata": {},
   "outputs": [
    {
     "name": "stdout",
     "output_type": "stream",
     "text": [
      "[-3.38785364e+00 -2.84853388e+00  4.77672950e+00  1.31521952e-19\n",
      " -5.29103786e-04 -3.35200559e+01  6.25725739e-01  3.77375929e-01\n",
      "  1.97790172e+00  3.09276462e-02  1.56450574e-02  6.86680915e-01\n",
      "  4.02638311e-01  9.47366132e-02 -1.14021184e+00  2.14943831e+00\n",
      "  4.13066325e+03]\n"
     ]
    }
   ],
   "source": [
    "print(theta) "
   ]
  },
  {
   "cell_type": "code",
   "execution_count": 9,
   "metadata": {},
   "outputs": [],
   "source": [
    "prof = theta[ndim-5:]\n",
    "if (proftype == 9):\n",
    "    modP,modT = np.loadtxt(pfile,skiprows=1,usecols=(1,2),unpack=True)\n",
    "    tfit = InterpolatedUnivariateSpline(np.log10(modP),modT,k=1)\n",
    "    prof = tfit(logcoarsePress)\n"
   ]
  },
  {
   "cell_type": "code",
   "execution_count": 10,
   "metadata": {},
   "outputs": [],
   "source": [
    "settings.init()\n",
    "settings.runargs = gases_myP,chemeq,dist, cloudtype,do_clouds,gasnum,cloudnum,inlinetemps,coarsePress,press,inwavenum,cia,ciatemps,use_disort,fwhm,obspec,proftype,do_fudge, prof,do_bff,bff_raw,ceTgrid,metscale,coscale\n"
   ]
  },
  {
   "cell_type": "code",
   "execution_count": 11,
   "metadata": {},
   "outputs": [
    {
     "name": "stdout",
     "output_type": "stream",
     "text": [
      "[0 1]\n",
      "[1 2]\n",
      "[[5]\n",
      " [5]]\n",
      "[[1]\n",
      " [1]]\n",
      "0.9404203623984057 20.471402201088704\n"
     ]
    }
   ],
   "source": [
    "print(do_clouds)\n",
    "print(gasnum)\n",
    "print(cloudnum)\n",
    "print(cloudtype)\n",
    "#print theta[15]\n",
    "#print theta[16]\n",
    "r2d2= theta[3]\n",
    "logg = theta[2]\n",
    "D = 3.086e+16 * dist\n",
    "R = np.sqrt(r2d2) * D\n",
    "g = (10.**logg)/100.\n",
    "M = (R**2 * g/(6.67E-11))/1.898E27\n",
    "print(R/70000e3, M)"
   ]
  },
  {
   "cell_type": "code",
   "execution_count": 12,
   "metadata": {},
   "outputs": [
    {
     "data": {
      "text/plain": [
       "Text(0.5, 0, 'T/K')"
      ]
     },
     "execution_count": 12,
     "metadata": {},
     "output_type": "execute_result"
    },
    {
     "data": {
      "image/png": "[encoded data removed]",
      "text/plain": [
       "<Figure size 2048x1536 with 1 Axes>"
      ]
     },
     "metadata": {},
     "output_type": "display_data"
    }
   ],
   "source": [
    "plt.rc('font',family='Times New Roman')\n",
    "fig=plt.figure(dpi=320)\n",
    "plt.axis([-500., 6000.,3.0,-5.0])\n",
    "#plt.plot(prof,logcoarsePress,'k-')\n",
    "plt.plot(modT,np.log10(modP),'g-')\n",
    "logP = np.log10(press)\n",
    "plotT = TPmod.set_prof(proftype,coarsePress,press,prof)\n",
    "plt.plot(plotT,logP, \"r-\")\n",
    "\n",
    "plt.ylabel(r'log(P)')\n",
    "plt.xlabel('T/K')\n"
   ]
  },
  {
   "cell_type": "code",
   "execution_count": 13,
   "metadata": {},
   "outputs": [
    {
     "name": "stdout",
     "output_type": "stream",
     "text": [
      "Rj =  0.9416175618699261\n",
      "M =  20.471402201088704\n",
      "[M/H] =  0.0\n",
      "[C/O] =  1.0\n",
      "logg =  4.776729504741583\n",
      "R2D2 =  1.3152195155584637e-19\n",
      "scale1 =  1.0\n",
      "scale2 =  1.0\n",
      "Rj =  0.9416175618699261\n",
      "vrad =  -0.0005291037862960059\n",
      "vsini =  10.0\n",
      "logf =  -33.52005589537316\n",
      "logf1 =  -32.03178537666361\n",
      "logf2 =  -32.03178537666361\n",
      "logf3 =  -32.03178537666361\n",
      "2.9023761981744357e-37\n",
      "9.294255847363244e-30\n",
      "VMRs =  [-3.38785364 -2.84853388]\n",
      "ng =  2\n",
      "sum VMRs =  0.001826712756548736\n",
      "cloud_top =  [[-4.        ]\n",
      " [ 1.97790172]]\n",
      "cloud_bot =  [[2.3       ]\n",
      " [2.00882937]]\n",
      "cloud_height =  [[0.1       ]\n",
      " [0.03092765]]\n",
      "loga =  [[0.        ]\n",
      " [0.01564506]]\n",
      "b =  [[0.5       ]\n",
      " [0.68668092]]\n",
      "cloud_tau0 =  [[1.        ]\n",
      " [0.37737593]]\n",
      "w0 =  [[0.5]\n",
      " [0.5]]\n",
      "taupow =  [[0.]\n",
      " [0.]]\n",
      "pcover =  [0.62572574 0.37427426]\n",
      "sum(pcover) =  1.0\n",
      "metscale =  [-1.   -0.75 -0.7  -0.5  -0.3  -0.25  0.    0.5   0.7   1.    1.5   1.7\n",
      "  2.  ]\n",
      "coscale =  [0.25 0.5  1.   1.5  2.   2.5 ]\n",
      "press[press.size-1]  =  199.52623149689074\n",
      "press[0] =  0.0001\n",
      "-42855888.18398651\n"
     ]
    }
   ],
   "source": [
    "LP = testkit.lnprob(theta) #* -2. / (obspec.shape[1] /3.)\n",
    "#print testkit.lnprob(theta2,*runargs) * -2. / (obspec.shape[1] /3.)\n",
    "print(LP)"
   ]
  },
  {
   "cell_type": "code",
   "execution_count": null,
   "metadata": {},
   "outputs": [],
   "source": [
    "[ 0.          0.          0.          0.          0.          0.          0.\n",
    "  0.          0.          0.          0.          0.          0.          0.\n",
    "  0.          0.          0.          0.          0.          0.\n",
    "  0.44268837  0.55731163  0.          0.          0.          0.          0.\n",
    "  0.          0.          0.          0.          0.          0.          0.\n",
    "  0.          0.          0.          0.          0.          0.          0.\n",
    "  0.          0.          0.          0.          0.          0.          0.\n",
    "  0.          0.          0.          0.          0.          0.          0.\n",
    "  0.          0.          0.          0.          0.          0.          0.\n",
    "  0.          0.        ]"
   ]
  },
  {
   "cell_type": "code",
   "execution_count": 15,
   "metadata": {},
   "outputs": [
    {
     "data": {
      "text/plain": [
       "(array([[2.49986379e+00, 2.49961382e+00, 2.49936389e+00, ...,\n",
       "         1.00028208e+00, 1.00018206e+00, 1.00008206e+00],\n",
       "        [3.24796217e-15, 3.40401121e-15, 3.85351865e-15, ...,\n",
       "         1.38795411e-13, 1.34106605e-13, 1.18716687e-13]], shape=(2, 9163)),\n",
       " array([[0., 0., 0., ..., 0., 0., 0.],\n",
       "        [0., 0., 0., ..., 0., 0., 0.]], shape=(2, 9163)),\n",
       " array([[0., 0., 0., ..., 0., 0., 0.],\n",
       "        [0., 0., 0., ..., 0., 0., 0.]], shape=(2, 9163)),\n",
       " array([[[0., 0., 0., ..., 0., 0., 0.],\n",
       "         [0., 0., 0., ..., 0., 0., 0.],\n",
       "         [0., 0., 0., ..., 0., 0., 0.],\n",
       "         ...,\n",
       "         [0., 0., 0., ..., 0., 0., 0.],\n",
       "         [0., 0., 0., ..., 0., 0., 0.],\n",
       "         [0., 0., 0., ..., 0., 0., 0.]],\n",
       " \n",
       "        [[0., 0., 0., ..., 0., 0., 0.],\n",
       "         [0., 0., 0., ..., 0., 0., 0.],\n",
       "         [0., 0., 0., ..., 0., 0., 0.],\n",
       "         ...,\n",
       "         [0., 0., 0., ..., 0., 0., 0.],\n",
       "         [0., 0., 0., ..., 0., 0., 0.],\n",
       "         [0., 0., 0., ..., 0., 0., 0.]]], shape=(2, 9163, 64)))"
      ]
     },
     "execution_count": 15,
     "metadata": {},
     "output_type": "execute_result"
    }
   ],
   "source": [
    "testkit.modelspec(theta,gnostics=0)"
   ]
  },
  {
   "cell_type": "code",
   "execution_count": null,
   "metadata": {},
   "outputs": [],
   "source": [
    "#for gas in range (0,ngas):\n",
    "##    test= pickle.load( open(lists[gas], \"rb\" ) )[3]\n",
    "#    test[np.isnan(test)] = 1.0\n",
    "#    print test[np.where(np.less(test,0))]\n",
    "print forwardmodel.marv.__doc__"
   ]
  },
  {
   "cell_type": "code",
   "execution_count": null,
   "metadata": {},
   "outputs": [],
   "source": [
    "plt.rc('font',family='Times New Roman')\n",
    "fig=plt.figure(dpi=320)\n",
    "plt.axis([-8., 2.,3.0,-5.0])\n",
    "logP = np.log10(press)\n",
    "plt.plot(np.log10(cloudprof[0,:,0]),logP, \"r-\")\n",
    "\n",
    "plt.ylabel(r'log(P)')\n",
    "plt.xlabel('log10(dtau)')"
   ]
  },
  {
   "cell_type": "code",
   "execution_count": null,
   "metadata": {},
   "outputs": [],
   "source": [
    "import forwardmodel\n",
    "print forwardmodel.marv.__doc__"
   ]
  },
  {
   "cell_type": "code",
   "execution_count": null,
   "metadata": {},
   "outputs": [],
   "source": []
  },
  {
   "cell_type": "code",
   "execution_count": null,
   "metadata": {},
   "outputs": [],
   "source": []
  }
 ],
 "metadata": {
  "kernelspec": {
   "display_name": "Python 3 (ipykernel)",
   "language": "python",
   "name": "python3"
  },
  "language_info": {
   "codemirror_mode": {
    "name": "ipython",
    "version": 3
   },
   "file_extension": ".py",
   "mimetype": "text/x-python",
   "name": "python",
   "nbconvert_exporter": "python",
   "pygments_lexer": "ipython3",
   "version": "3.11.11"
  }
 },
 "nbformat": 4,
 "nbformat_minor": 4
}
